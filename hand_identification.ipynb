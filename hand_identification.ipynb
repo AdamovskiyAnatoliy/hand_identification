{
 "cells": [
  {
   "cell_type": "code",
   "execution_count": 1,
   "metadata": {
    "scrolled": false
   },
   "outputs": [
    {
     "name": "stderr",
     "output_type": "stream",
     "text": [
      "Using TensorFlow backend.\n"
     ]
    }
   ],
   "source": [
    "import numpy as np\n",
    "import matplotlib.pyplot as plt\n",
    "from scipy.misc import imread\n",
    "from sklearn.model_selection import train_test_split\n",
    "from keras.utils import np_utils\n",
    "from keras.models import Sequential\n",
    "from keras.layers import Dense, Dropout, Activation, Flatten\n",
    "from keras.layers import Convolution2D, MaxPooling2D\n",
    "from keras.layers.convolutional import Conv2D\n",
    "from keras.preprocessing.image import ImageDataGenerator\n",
    "from tqdm import tqdm_notebook\n",
    "from tqdm import tqdm\n",
    "import pandas as pd\n",
    "import os\n",
    "import cv2\n",
    "import sys\n",
    "import scipy\n",
    "\n",
    "\n",
    "\n",
    "%matplotlib inline"
   ]
  },
  {
   "cell_type": "code",
   "execution_count": 2,
   "metadata": {
    "collapsed": true
   },
   "outputs": [],
   "source": [
    "bad_path = 'DataSets/Bad50x50/27733/'\n",
    "left_path = 'DataSets/LeftHand50x50/27731/'\n",
    "rigth_path = 'DataSets/RightHand50x50/27730/'\n",
    "test_path = 'DataSets/Test189x110/27734/'"
   ]
  },
  {
   "cell_type": "code",
   "execution_count": 3,
   "metadata": {
    "collapsed": true
   },
   "outputs": [],
   "source": [
    "dir_path = [bad_path, left_path, rigth_path]"
   ]
  },
  {
   "cell_type": "code",
   "execution_count": 4,
   "metadata": {
    "collapsed": true
   },
   "outputs": [],
   "source": [
    "\n",
    "train_img_path = []\n",
    "for i in dir_path :\n",
    "    image_in_dir = []\n",
    "    for j in os.listdir(i):\n",
    "        if j.split('.')[1] == 'jpg':\n",
    "            image_in_dir.append(i + j)\n",
    "    train_img_path.append(image_in_dir)"
   ]
  },
  {
   "cell_type": "code",
   "execution_count": 5,
   "metadata": {
    "collapsed": true
   },
   "outputs": [],
   "source": [
    "target_list = [0, 1, 2]"
   ]
  },
  {
   "cell_type": "code",
   "execution_count": 6,
   "metadata": {
    "collapsed": true
   },
   "outputs": [],
   "source": [
    "train_data = []\n",
    "train_target = []\n",
    "for paths, target in zip(train_img_path, target_list):\n",
    "    for path in paths:\n",
    "        train_data.append(imread(path, mode='L'))\n",
    "        train_target.append(target)\n",
    "train_data = np.array(train_data)\n",
    "train_target = np.array(train_target)"
   ]
  },
  {
   "cell_type": "code",
   "execution_count": 7,
   "metadata": {
    "collapsed": true
   },
   "outputs": [],
   "source": [
    "test_img_path = []\n",
    "for i in os.listdir(test_path):\n",
    "    if i.split('.')[1] == 'jpg':\n",
    "        test_img_path.append(test_path + i)"
   ]
  },
  {
   "cell_type": "code",
   "execution_count": 8,
   "metadata": {
    "collapsed": true,
    "scrolled": true
   },
   "outputs": [],
   "source": [
    "test_data = []\n",
    "for path in test_img_path:\n",
    "    test_data.append(imread(path, mode='L', ))\n",
    "test_data = np.array(test_data)"
   ]
  },
  {
   "cell_type": "code",
   "execution_count": 9,
   "metadata": {
    "collapsed": true
   },
   "outputs": [],
   "source": [
    "batch_size, img_rows, img_cols = 64 , 50, 50"
   ]
  },
  {
   "cell_type": "code",
   "execution_count": 10,
   "metadata": {
    "collapsed": true
   },
   "outputs": [],
   "source": [
    "input_shape = (img_rows, img_cols, 1)"
   ]
  },
  {
   "cell_type": "code",
   "execution_count": 11,
   "metadata": {
    "collapsed": true
   },
   "outputs": [],
   "source": [
    "X_train, X_test, y_train, y_test = train_test_split(train_data, train_target)"
   ]
  },
  {
   "cell_type": "code",
   "execution_count": 12,
   "metadata": {
    "collapsed": true,
    "scrolled": true
   },
   "outputs": [],
   "source": [
    "X_train = X_train.reshape(X_train.shape[0], img_rows, img_cols, 1)\n",
    "X_test = X_test.reshape(X_test.shape[0], img_rows, img_cols, 1)"
   ]
  },
  {
   "cell_type": "code",
   "execution_count": 13,
   "metadata": {
    "collapsed": true
   },
   "outputs": [],
   "source": [
    "X_train = X_train.astype('float32')\n",
    "X_test = X_test.astype('float32')\n",
    "X_train /= 255\n",
    "X_test /= 255"
   ]
  },
  {
   "cell_type": "code",
   "execution_count": 14,
   "metadata": {
    "collapsed": true
   },
   "outputs": [],
   "source": [
    "datagen_train = ImageDataGenerator(\n",
    "    rotation_range=180, zoom_range=0.1)\n",
    "datagen_train.fit(X_train.reshape(-1, 50, 50, 1))\n",
    "datagen_test = ImageDataGenerator(\n",
    "    rotation_range=180, zoom_range=0.1)\n",
    "datagen_test.fit(X_test.reshape(-1, 50, 50, 1))"
   ]
  },
  {
   "cell_type": "code",
   "execution_count": 15,
   "metadata": {
    "collapsed": true,
    "scrolled": false
   },
   "outputs": [],
   "source": [
    "Y_train = np_utils.to_categorical(y_train, 3)\n",
    "Y_test = np_utils.to_categorical(y_test, 3)"
   ]
  },
  {
   "cell_type": "code",
   "execution_count": 16,
   "metadata": {
    "collapsed": true
   },
   "outputs": [],
   "source": [
    "model = Sequential([\n",
    "    Conv2D(32, (5, 5), input_shape=input_shape, padding='same'),\n",
    "    Activation('relu'),\n",
    "    MaxPooling2D(pool_size=(2,2), strides=(2, 2), padding ='same'),\n",
    "    Conv2D(64, (5, 5), input_shape=input_shape, padding='same'),\n",
    "    Activation('relu'),\n",
    "    MaxPooling2D(pool_size=(2,2), strides=(2, 2), padding = 'same'),\n",
    "    Flatten(),\n",
    "    Dense(1024),\n",
    "    Activation('relu'),\n",
    "    Dropout(0.5),\n",
    "    Dense(3),\n",
    "    Activation('softmax')\n",
    "])"
   ]
  },
  {
   "cell_type": "code",
   "execution_count": 17,
   "metadata": {
    "collapsed": true
   },
   "outputs": [],
   "source": [
    "model.compile(loss='categorical_crossentropy', optimizer='adam', metrics=['accuracy'])"
   ]
  },
  {
   "cell_type": "code",
   "execution_count": 18,
   "metadata": {
    "scrolled": false
   },
   "outputs": [
    {
     "name": "stdout",
     "output_type": "stream",
     "text": [
      "Epoch 1/200\n",
      "53/52 [==============================] - 91s 2s/step - loss: 0.7231 - acc: 0.6025 - val_loss: 0.5618 - val_acc: 0.6649\n",
      "Epoch 2/200\n",
      "53/52 [==============================] - 85s 2s/step - loss: 0.5304 - acc: 0.7225 - val_loss: 0.3955 - val_acc: 0.8441\n",
      "Epoch 3/200\n",
      "53/52 [==============================] - 87s 2s/step - loss: 0.4032 - acc: 0.8183 - val_loss: 0.2931 - val_acc: 0.8925\n",
      "Epoch 4/200\n",
      "53/52 [==============================] - 85s 2s/step - loss: 0.2472 - acc: 0.8944 - val_loss: 0.1678 - val_acc: 0.9427\n",
      "Epoch 5/200\n",
      "53/52 [==============================] - 85s 2s/step - loss: 0.2147 - acc: 0.9101 - val_loss: 0.1732 - val_acc: 0.9480\n",
      "Epoch 6/200\n",
      "53/52 [==============================] - 86s 2s/step - loss: 0.1449 - acc: 0.9481 - val_loss: 0.1203 - val_acc: 0.9462\n",
      "Epoch 7/200\n",
      "53/52 [==============================] - 86s 2s/step - loss: 0.1359 - acc: 0.9449 - val_loss: 0.0745 - val_acc: 0.9749\n",
      "Epoch 8/200\n",
      "53/52 [==============================] - 99s 2s/step - loss: 0.0852 - acc: 0.9711 - val_loss: 0.0468 - val_acc: 0.9839\n",
      "Epoch 9/200\n",
      "53/52 [==============================] - 86s 2s/step - loss: 0.0853 - acc: 0.9723 - val_loss: 0.0518 - val_acc: 0.9857\n",
      "Epoch 10/200\n",
      "53/52 [==============================] - 86s 2s/step - loss: 0.0599 - acc: 0.9776 - val_loss: 0.0327 - val_acc: 0.9910\n",
      "Epoch 11/200\n",
      "53/52 [==============================] - 85s 2s/step - loss: 0.0850 - acc: 0.9696 - val_loss: 0.0584 - val_acc: 0.9785\n",
      "Epoch 12/200\n",
      "53/52 [==============================] - 79s 1s/step - loss: 0.0644 - acc: 0.9767 - val_loss: 0.0698 - val_acc: 0.9767\n",
      "Epoch 13/200\n",
      "53/52 [==============================] - 80s 2s/step - loss: 0.0525 - acc: 0.9788 - val_loss: 0.0519 - val_acc: 0.9767\n",
      "Epoch 14/200\n",
      "53/52 [==============================] - 70s 1s/step - loss: 0.0397 - acc: 0.9847 - val_loss: 0.0192 - val_acc: 0.9946\n",
      "Epoch 15/200\n",
      "53/52 [==============================] - 70s 1s/step - loss: 0.0284 - acc: 0.9917 - val_loss: 0.0171 - val_acc: 0.9946\n",
      "Epoch 16/200\n",
      "53/52 [==============================] - 69s 1s/step - loss: 0.0346 - acc: 0.9882 - val_loss: 0.0418 - val_acc: 0.9839\n",
      "Epoch 17/200\n",
      "53/52 [==============================] - 69s 1s/step - loss: 0.0294 - acc: 0.9882 - val_loss: 0.0214 - val_acc: 0.9928\n",
      "Epoch 18/200\n",
      "53/52 [==============================] - 70s 1s/step - loss: 0.0260 - acc: 0.9923 - val_loss: 0.0075 - val_acc: 0.9982\n",
      "Epoch 19/200\n",
      "53/52 [==============================] - 69s 1s/step - loss: 0.0311 - acc: 0.9900 - val_loss: 0.0332 - val_acc: 0.9875\n",
      "Epoch 20/200\n",
      "53/52 [==============================] - 69s 1s/step - loss: 0.0257 - acc: 0.9906 - val_loss: 0.0190 - val_acc: 0.9910\n",
      "Epoch 21/200\n",
      "53/52 [==============================] - 69s 1s/step - loss: 0.0221 - acc: 0.9917 - val_loss: 0.0110 - val_acc: 0.9964\n",
      "Epoch 22/200\n",
      "53/52 [==============================] - 70s 1s/step - loss: 0.0207 - acc: 0.9929 - val_loss: 0.0096 - val_acc: 0.9964\n",
      "Epoch 23/200\n",
      "53/52 [==============================] - 67s 1s/step - loss: 0.0295 - acc: 0.9888 - val_loss: 0.0091 - val_acc: 0.9964\n",
      "Epoch 24/200\n",
      "53/52 [==============================] - 67s 1s/step - loss: 0.0289 - acc: 0.9888 - val_loss: 0.0157 - val_acc: 0.9928\n",
      "Epoch 25/200\n",
      "53/52 [==============================] - 67s 1s/step - loss: 0.0181 - acc: 0.9941 - val_loss: 0.0192 - val_acc: 0.9910\n",
      "Epoch 26/200\n",
      "53/52 [==============================] - 67s 1s/step - loss: 0.0143 - acc: 0.9953 - val_loss: 0.0137 - val_acc: 0.9928\n",
      "Epoch 27/200\n",
      "53/52 [==============================] - 67s 1s/step - loss: 0.0141 - acc: 0.9959 - val_loss: 0.0036 - val_acc: 1.0000\n",
      "Epoch 28/200\n",
      "53/52 [==============================] - 67s 1s/step - loss: 0.0122 - acc: 0.9971 - val_loss: 0.0070 - val_acc: 1.0000\n",
      "Epoch 29/200\n",
      "53/52 [==============================] - 67s 1s/step - loss: 0.0154 - acc: 0.9929 - val_loss: 0.0073 - val_acc: 0.9982\n",
      "Epoch 30/200\n",
      "53/52 [==============================] - 66s 1s/step - loss: 0.0178 - acc: 0.9959 - val_loss: 0.0121 - val_acc: 0.9964\n",
      "Epoch 31/200\n",
      "53/52 [==============================] - 68s 1s/step - loss: 0.0101 - acc: 0.9971 - val_loss: 0.0098 - val_acc: 0.9946\n",
      "Epoch 32/200\n",
      "53/52 [==============================] - 67s 1s/step - loss: 0.0063 - acc: 0.9982 - val_loss: 0.0077 - val_acc: 0.9964\n",
      "Epoch 33/200\n",
      "53/52 [==============================] - 67s 1s/step - loss: 0.0248 - acc: 0.9929 - val_loss: 0.0136 - val_acc: 0.9964\n",
      "Epoch 34/200\n",
      "53/52 [==============================] - 67s 1s/step - loss: 0.0224 - acc: 0.9917 - val_loss: 0.0106 - val_acc: 0.9964\n",
      "Epoch 35/200\n",
      "53/52 [==============================] - 66s 1s/step - loss: 0.0121 - acc: 0.9965 - val_loss: 0.0036 - val_acc: 1.0000\n",
      "Epoch 36/200\n",
      "53/52 [==============================] - 67s 1s/step - loss: 0.0138 - acc: 0.9959 - val_loss: 0.0099 - val_acc: 0.9964\n",
      "Epoch 37/200\n",
      "53/52 [==============================] - 66s 1s/step - loss: 0.0056 - acc: 0.9982 - val_loss: 0.0070 - val_acc: 0.9982\n",
      "Epoch 38/200\n",
      "53/52 [==============================] - 67s 1s/step - loss: 0.0033 - acc: 0.9988 - val_loss: 0.0043 - val_acc: 0.9982\n",
      "Epoch 39/200\n",
      "53/52 [==============================] - 67s 1s/step - loss: 0.0063 - acc: 0.9982 - val_loss: 0.0343 - val_acc: 0.9910\n",
      "Epoch 40/200\n",
      "53/52 [==============================] - 68s 1s/step - loss: 0.0091 - acc: 0.9965 - val_loss: 0.0060 - val_acc: 0.9982\n",
      "Epoch 41/200\n",
      "53/52 [==============================] - 67s 1s/step - loss: 0.0034 - acc: 0.9994 - val_loss: 0.0058 - val_acc: 0.9964\n",
      "Epoch 42/200\n",
      "53/52 [==============================] - 67s 1s/step - loss: 0.0080 - acc: 0.9976 - val_loss: 0.0210 - val_acc: 0.9946\n",
      "Epoch 43/200\n",
      "53/52 [==============================] - 67s 1s/step - loss: 0.0094 - acc: 0.9971 - val_loss: 0.0056 - val_acc: 1.0000\n",
      "Epoch 44/200\n",
      "53/52 [==============================] - 67s 1s/step - loss: 0.0073 - acc: 0.9976 - val_loss: 0.0169 - val_acc: 0.9946\n",
      "Epoch 45/200\n",
      "53/52 [==============================] - 67s 1s/step - loss: 0.0115 - acc: 0.9959 - val_loss: 0.0049 - val_acc: 0.9964\n",
      "Epoch 46/200\n",
      "53/52 [==============================] - 66s 1s/step - loss: 0.0175 - acc: 0.9929 - val_loss: 0.0307 - val_acc: 0.9910\n",
      "Epoch 47/200\n",
      "53/52 [==============================] - 67s 1s/step - loss: 0.0123 - acc: 0.9959 - val_loss: 0.0048 - val_acc: 0.9982\n",
      "Epoch 48/200\n",
      "53/52 [==============================] - 67s 1s/step - loss: 0.0181 - acc: 0.9926 - val_loss: 0.0272 - val_acc: 0.9875\n",
      "Epoch 49/200\n",
      "53/52 [==============================] - 67s 1s/step - loss: 0.0216 - acc: 0.9912 - val_loss: 0.0075 - val_acc: 0.9964\n",
      "Epoch 50/200\n",
      "53/52 [==============================] - 68s 1s/step - loss: 0.0176 - acc: 0.9947 - val_loss: 0.0045 - val_acc: 0.9982\n",
      "Epoch 51/200\n",
      "53/52 [==============================] - 67s 1s/step - loss: 0.0171 - acc: 0.9923 - val_loss: 0.0117 - val_acc: 0.9964\n",
      "Epoch 52/200\n",
      "53/52 [==============================] - 67s 1s/step - loss: 0.0079 - acc: 0.9976 - val_loss: 0.0060 - val_acc: 0.9982\n",
      "Epoch 53/200\n",
      "53/52 [==============================] - 68s 1s/step - loss: 0.0042 - acc: 0.9982 - val_loss: 0.0037 - val_acc: 1.0000\n",
      "Epoch 54/200\n",
      "53/52 [==============================] - 67s 1s/step - loss: 0.0034 - acc: 0.9988 - val_loss: 0.0045 - val_acc: 0.9982\n",
      "Epoch 55/200\n",
      "53/52 [==============================] - 67s 1s/step - loss: 0.0041 - acc: 0.9982 - val_loss: 0.0046 - val_acc: 0.9982\n",
      "Epoch 56/200\n",
      "53/52 [==============================] - 67s 1s/step - loss: 0.0061 - acc: 0.9971 - val_loss: 0.0031 - val_acc: 0.9982\n",
      "Epoch 57/200\n",
      "53/52 [==============================] - 67s 1s/step - loss: 0.0207 - acc: 0.9923 - val_loss: 0.0254 - val_acc: 0.9910\n",
      "Epoch 58/200\n",
      "53/52 [==============================] - 68s 1s/step - loss: 0.0112 - acc: 0.9965 - val_loss: 0.0150 - val_acc: 0.9964\n",
      "Epoch 59/200\n",
      "53/52 [==============================] - 68s 1s/step - loss: 0.0054 - acc: 0.9982 - val_loss: 0.0019 - val_acc: 1.0000\n",
      "Epoch 60/200\n",
      "53/52 [==============================] - 67s 1s/step - loss: 0.0149 - acc: 0.9941 - val_loss: 0.0292 - val_acc: 0.9946\n",
      "Epoch 61/200\n",
      "53/52 [==============================] - 67s 1s/step - loss: 0.0226 - acc: 0.9923 - val_loss: 0.0012 - val_acc: 1.0000\n",
      "Epoch 62/200\n",
      "53/52 [==============================] - 67s 1s/step - loss: 0.0142 - acc: 0.9932 - val_loss: 0.0089 - val_acc: 0.9964\n",
      "Epoch 63/200\n"
     ]
    },
    {
     "name": "stdout",
     "output_type": "stream",
     "text": [
      "53/52 [==============================] - 67s 1s/step - loss: 0.0053 - acc: 0.9976 - val_loss: 0.0234 - val_acc: 0.9964\n",
      "Epoch 64/200\n",
      "53/52 [==============================] - 66s 1s/step - loss: 0.0056 - acc: 0.9982 - val_loss: 3.6969e-04 - val_acc: 1.0000\n",
      "Epoch 65/200\n",
      "53/52 [==============================] - 67s 1s/step - loss: 0.0032 - acc: 0.9988 - val_loss: 0.0044 - val_acc: 0.9982\n",
      "Epoch 66/200\n",
      "53/52 [==============================] - 76s 1s/step - loss: 0.0182 - acc: 0.9959 - val_loss: 0.0068 - val_acc: 0.9982\n",
      "Epoch 67/200\n",
      "53/52 [==============================] - 85s 2s/step - loss: 0.0049 - acc: 0.9994 - val_loss: 0.0178 - val_acc: 0.9946\n",
      "Epoch 68/200\n",
      "53/52 [==============================] - 75s 1s/step - loss: 0.0025 - acc: 0.9988 - val_loss: 4.3315e-04 - val_acc: 1.0000\n",
      "Epoch 69/200\n",
      "53/52 [==============================] - 83s 2s/step - loss: 0.0025 - acc: 0.9988 - val_loss: 0.0025 - val_acc: 0.9982\n",
      "Epoch 70/200\n",
      "53/52 [==============================] - 86s 2s/step - loss: 0.0123 - acc: 0.9953 - val_loss: 0.0229 - val_acc: 0.9946\n",
      "Epoch 71/200\n",
      "53/52 [==============================] - 86s 2s/step - loss: 0.0274 - acc: 0.9914 - val_loss: 0.0093 - val_acc: 0.9946\n",
      "Epoch 72/200\n",
      "53/52 [==============================] - 80s 2s/step - loss: 0.0133 - acc: 0.9959 - val_loss: 0.0194 - val_acc: 0.9946\n",
      "Epoch 73/200\n",
      "53/52 [==============================] - 85s 2s/step - loss: 0.0042 - acc: 0.9994 - val_loss: 0.0081 - val_acc: 0.9964\n",
      "Epoch 74/200\n",
      "53/52 [==============================] - 86s 2s/step - loss: 0.0044 - acc: 0.9982 - val_loss: 0.0028 - val_acc: 0.9982\n",
      "Epoch 75/200\n",
      "53/52 [==============================] - 86s 2s/step - loss: 0.0056 - acc: 0.9976 - val_loss: 0.0011 - val_acc: 1.0000\n",
      "Epoch 76/200\n",
      "53/52 [==============================] - 85s 2s/step - loss: 0.0071 - acc: 0.9971 - val_loss: 1.5261e-04 - val_acc: 1.0000\n",
      "Epoch 77/200\n",
      "53/52 [==============================] - 85s 2s/step - loss: 0.0027 - acc: 0.9988 - val_loss: 0.0139 - val_acc: 0.9964\n",
      "Epoch 78/200\n",
      "53/52 [==============================] - 86s 2s/step - loss: 0.0086 - acc: 0.9965 - val_loss: 0.0034 - val_acc: 0.9982\n",
      "Epoch 79/200\n",
      "53/52 [==============================] - 87s 2s/step - loss: 0.0035 - acc: 0.9982 - val_loss: 0.0013 - val_acc: 1.0000\n",
      "Epoch 80/200\n",
      "53/52 [==============================] - 94s 2s/step - loss: 0.0045 - acc: 0.9971 - val_loss: 0.0019 - val_acc: 1.0000\n",
      "Epoch 81/200\n",
      "53/52 [==============================] - 119s 2s/step - loss: 0.0102 - acc: 0.9965 - val_loss: 9.7618e-04 - val_acc: 1.0000\n",
      "Epoch 82/200\n",
      "53/52 [==============================] - 106s 2s/step - loss: 0.0073 - acc: 0.9976 - val_loss: 0.0014 - val_acc: 1.0000\n",
      "Epoch 83/200\n",
      "53/52 [==============================] - 88s 2s/step - loss: 0.0064 - acc: 0.9982 - val_loss: 0.0056 - val_acc: 0.9964\n",
      "Epoch 84/200\n",
      "53/52 [==============================] - 86s 2s/step - loss: 0.0026 - acc: 0.9994 - val_loss: 0.0150 - val_acc: 0.9928\n",
      "Epoch 85/200\n",
      "53/52 [==============================] - 85s 2s/step - loss: 0.0033 - acc: 0.9994 - val_loss: 0.0104 - val_acc: 0.9964\n",
      "Epoch 86/200\n",
      "53/52 [==============================] - 86s 2s/step - loss: 0.0027 - acc: 0.9994 - val_loss: 7.9781e-04 - val_acc: 1.0000\n",
      "Epoch 87/200\n",
      "53/52 [==============================] - 86s 2s/step - loss: 0.0092 - acc: 0.9959 - val_loss: 0.0014 - val_acc: 1.0000\n",
      "Epoch 88/200\n",
      "53/52 [==============================] - 86s 2s/step - loss: 0.0079 - acc: 0.9971 - val_loss: 0.0202 - val_acc: 0.9964\n",
      "Epoch 89/200\n",
      "53/52 [==============================] - 86s 2s/step - loss: 0.0182 - acc: 0.9941 - val_loss: 0.0316 - val_acc: 0.9821\n",
      "Epoch 90/200\n",
      "53/52 [==============================] - 86s 2s/step - loss: 0.0093 - acc: 0.9959 - val_loss: 0.0242 - val_acc: 0.9946\n",
      "Epoch 91/200\n",
      "53/52 [==============================] - 86s 2s/step - loss: 0.0022 - acc: 0.9994 - val_loss: 0.0087 - val_acc: 0.9964\n",
      "Epoch 92/200\n",
      "53/52 [==============================] - 85s 2s/step - loss: 0.0177 - acc: 0.9941 - val_loss: 0.0013 - val_acc: 1.0000\n",
      "Epoch 93/200\n",
      "53/52 [==============================] - 86s 2s/step - loss: 0.0065 - acc: 0.9982 - val_loss: 1.3768e-04 - val_acc: 1.0000\n",
      "Epoch 94/200\n",
      "53/52 [==============================] - 83s 2s/step - loss: 0.0031 - acc: 0.9994 - val_loss: 0.0094 - val_acc: 0.9964\n",
      "Epoch 95/200\n",
      "53/52 [==============================] - 68s 1s/step - loss: 0.0058 - acc: 0.9976 - val_loss: 1.4505e-04 - val_acc: 1.0000\n",
      "Epoch 96/200\n",
      "53/52 [==============================] - 76s 1s/step - loss: 0.0107 - acc: 0.9982 - val_loss: 0.0011 - val_acc: 1.0000\n",
      "Epoch 97/200\n",
      "53/52 [==============================] - 76s 1s/step - loss: 0.0068 - acc: 0.9976 - val_loss: 0.0025 - val_acc: 0.9982\n",
      "Epoch 98/200\n",
      "53/52 [==============================] - 68s 1s/step - loss: 0.0048 - acc: 0.9988 - val_loss: 0.0025 - val_acc: 0.9982\n",
      "Epoch 99/200\n",
      "53/52 [==============================] - 68s 1s/step - loss: 0.0076 - acc: 0.9976 - val_loss: 0.0161 - val_acc: 0.9946\n",
      "Epoch 100/200\n",
      "53/52 [==============================] - 68s 1s/step - loss: 0.0092 - acc: 0.9976 - val_loss: 0.0109 - val_acc: 0.9946\n",
      "Epoch 101/200\n",
      "53/52 [==============================] - 67s 1s/step - loss: 0.0068 - acc: 0.9971 - val_loss: 0.0382 - val_acc: 0.9946\n",
      "Epoch 102/200\n",
      "53/52 [==============================] - 67s 1s/step - loss: 0.0093 - acc: 0.9971 - val_loss: 0.0053 - val_acc: 0.9964\n",
      "Epoch 103/200\n",
      "53/52 [==============================] - 68s 1s/step - loss: 0.0142 - acc: 0.9932 - val_loss: 0.0152 - val_acc: 0.9928\n",
      "Epoch 104/200\n",
      "53/52 [==============================] - 68s 1s/step - loss: 0.0154 - acc: 0.9959 - val_loss: 0.0351 - val_acc: 0.9910\n",
      "Epoch 105/200\n",
      "53/52 [==============================] - 68s 1s/step - loss: 0.0126 - acc: 0.9953 - val_loss: 0.0183 - val_acc: 0.9946\n",
      "Epoch 106/200\n",
      "53/52 [==============================] - 67s 1s/step - loss: 0.0072 - acc: 0.9976 - val_loss: 0.0211 - val_acc: 0.9946\n",
      "Epoch 107/200\n",
      "53/52 [==============================] - 68s 1s/step - loss: 0.0093 - acc: 0.9965 - val_loss: 6.6035e-05 - val_acc: 1.0000\n",
      "Epoch 108/200\n",
      "53/52 [==============================] - 68s 1s/step - loss: 0.0055 - acc: 0.9982 - val_loss: 0.0029 - val_acc: 0.9982\n",
      "Epoch 109/200\n",
      "53/52 [==============================] - 68s 1s/step - loss: 0.0092 - acc: 0.9959 - val_loss: 0.0234 - val_acc: 0.9928\n",
      "Epoch 110/200\n",
      "53/52 [==============================] - 74s 1s/step - loss: 0.0085 - acc: 0.9959 - val_loss: 0.0142 - val_acc: 0.9946\n",
      "Epoch 111/200\n",
      "53/52 [==============================] - 90s 2s/step - loss: 0.0130 - acc: 0.9959 - val_loss: 0.0078 - val_acc: 0.9982\n",
      "Epoch 112/200\n",
      "53/52 [==============================] - 104s 2s/step - loss: 0.0059 - acc: 0.9976 - val_loss: 1.5767e-04 - val_acc: 1.0000\n",
      "Epoch 113/200\n",
      "53/52 [==============================] - 93s 2s/step - loss: 0.0099 - acc: 0.9953 - val_loss: 0.0117 - val_acc: 0.9964\n",
      "Epoch 114/200\n",
      "53/52 [==============================] - 90s 2s/step - loss: 0.0052 - acc: 0.9976 - val_loss: 0.0031 - val_acc: 0.9982\n",
      "Epoch 115/200\n",
      "53/52 [==============================] - 91s 2s/step - loss: 0.0018 - acc: 0.9994 - val_loss: 0.0034 - val_acc: 0.9982\n",
      "Epoch 116/200\n",
      "53/52 [==============================] - 86s 2s/step - loss: 2.9759e-04 - acc: 1.0000 - val_loss: 0.0027 - val_acc: 0.9982\n",
      "Epoch 117/200\n",
      "53/52 [==============================] - 87s 2s/step - loss: 0.0033 - acc: 0.9988 - val_loss: 1.2115e-05 - val_acc: 1.0000\n",
      "Epoch 118/200\n",
      "53/52 [==============================] - 88s 2s/step - loss: 0.0028 - acc: 0.9994 - val_loss: 7.3290e-04 - val_acc: 1.0000\n",
      "Epoch 119/200\n",
      "53/52 [==============================] - 84s 2s/step - loss: 0.0080 - acc: 0.9988 - val_loss: 6.9952e-04 - val_acc: 1.0000\n",
      "Epoch 120/200\n",
      "53/52 [==============================] - 86s 2s/step - loss: 0.0058 - acc: 0.9976 - val_loss: 0.0045 - val_acc: 0.9982\n",
      "Epoch 121/200\n",
      "53/52 [==============================] - 85s 2s/step - loss: 0.0091 - acc: 0.9965 - val_loss: 0.0071 - val_acc: 0.9982\n",
      "Epoch 122/200\n",
      "53/52 [==============================] - 85s 2s/step - loss: 0.0101 - acc: 0.9976 - val_loss: 0.0027 - val_acc: 0.9982\n",
      "Epoch 123/200\n",
      "53/52 [==============================] - 87s 2s/step - loss: 0.0024 - acc: 0.9994 - val_loss: 0.0169 - val_acc: 0.9982\n",
      "Epoch 124/200\n"
     ]
    },
    {
     "name": "stdout",
     "output_type": "stream",
     "text": [
      "53/52 [==============================] - 88s 2s/step - loss: 7.2807e-04 - acc: 1.0000 - val_loss: 3.3292e-04 - val_acc: 1.0000\n",
      "Epoch 125/200\n",
      "53/52 [==============================] - 89s 2s/step - loss: 0.0012 - acc: 1.0000 - val_loss: 6.7403e-04 - val_acc: 1.0000\n",
      "Epoch 126/200\n",
      "53/52 [==============================] - 86s 2s/step - loss: 0.0047 - acc: 0.9976 - val_loss: 0.0013 - val_acc: 0.9982\n",
      "Epoch 127/200\n",
      "53/52 [==============================] - 93s 2s/step - loss: 0.0047 - acc: 0.9982 - val_loss: 3.8474e-04 - val_acc: 1.0000\n",
      "Epoch 128/200\n",
      "53/52 [==============================] - 86s 2s/step - loss: 0.0017 - acc: 0.9994 - val_loss: 0.0041 - val_acc: 0.9982\n",
      "Epoch 129/200\n",
      "53/52 [==============================] - 90s 2s/step - loss: 3.0190e-04 - acc: 1.0000 - val_loss: 0.0029 - val_acc: 1.0000\n",
      "Epoch 130/200\n",
      "53/52 [==============================] - 88s 2s/step - loss: 6.2115e-04 - acc: 1.0000 - val_loss: 0.0047 - val_acc: 0.9982\n",
      "Epoch 131/200\n",
      "53/52 [==============================] - 87s 2s/step - loss: 1.9718e-04 - acc: 1.0000 - val_loss: 3.3734e-04 - val_acc: 1.0000\n",
      "Epoch 132/200\n",
      "53/52 [==============================] - 88s 2s/step - loss: 1.1593e-04 - acc: 1.0000 - val_loss: 0.0056 - val_acc: 0.9982\n",
      "Epoch 133/200\n",
      "53/52 [==============================] - 89s 2s/step - loss: 0.0053 - acc: 0.9982 - val_loss: 7.7693e-04 - val_acc: 1.0000\n",
      "Epoch 134/200\n",
      "53/52 [==============================] - 88s 2s/step - loss: 0.0019 - acc: 0.9988 - val_loss: 0.0081 - val_acc: 0.9964\n",
      "Epoch 135/200\n",
      "53/52 [==============================] - 90s 2s/step - loss: 0.0046 - acc: 0.9994 - val_loss: 0.0140 - val_acc: 0.9964\n",
      "Epoch 136/200\n",
      "53/52 [==============================] - 88s 2s/step - loss: 0.0022 - acc: 0.9988 - val_loss: 3.2880e-04 - val_acc: 1.0000\n",
      "Epoch 137/200\n",
      "53/52 [==============================] - 88s 2s/step - loss: 0.0019 - acc: 0.9994 - val_loss: 0.0039 - val_acc: 0.9982\n",
      "Epoch 138/200\n",
      "53/52 [==============================] - 89s 2s/step - loss: 0.0111 - acc: 0.9971 - val_loss: 0.0055 - val_acc: 0.9964\n",
      "Epoch 139/200\n",
      "53/52 [==============================] - 89s 2s/step - loss: 0.0033 - acc: 0.9988 - val_loss: 0.0038 - val_acc: 0.9982\n",
      "Epoch 140/200\n",
      "53/52 [==============================] - 88s 2s/step - loss: 0.0129 - acc: 0.9950 - val_loss: 0.0171 - val_acc: 0.9946\n",
      "Epoch 141/200\n",
      "53/52 [==============================] - 88s 2s/step - loss: 0.0346 - acc: 0.9941 - val_loss: 0.0082 - val_acc: 0.9982\n",
      "Epoch 142/200\n",
      "53/52 [==============================] - 89s 2s/step - loss: 0.0039 - acc: 0.9994 - val_loss: 0.0023 - val_acc: 0.9982\n",
      "Epoch 143/200\n",
      "53/52 [==============================] - 89s 2s/step - loss: 0.0160 - acc: 0.9959 - val_loss: 0.0157 - val_acc: 0.9946\n",
      "Epoch 144/200\n",
      "53/52 [==============================] - 88s 2s/step - loss: 0.0038 - acc: 0.9988 - val_loss: 0.0028 - val_acc: 0.9982\n",
      "Epoch 145/200\n",
      "53/52 [==============================] - 89s 2s/step - loss: 0.0102 - acc: 0.9976 - val_loss: 0.0076 - val_acc: 0.9982\n",
      "Epoch 146/200\n",
      "53/52 [==============================] - 84s 2s/step - loss: 0.0157 - acc: 0.9965 - val_loss: 0.0150 - val_acc: 0.9946\n",
      "Epoch 147/200\n",
      "53/52 [==============================] - 87s 2s/step - loss: 0.0112 - acc: 0.9953 - val_loss: 0.0040 - val_acc: 0.9982\n",
      "Epoch 148/200\n",
      "53/52 [==============================] - 88s 2s/step - loss: 8.4988e-04 - acc: 1.0000 - val_loss: 0.0072 - val_acc: 0.9982\n",
      "Epoch 149/200\n",
      "53/52 [==============================] - 89s 2s/step - loss: 0.0013 - acc: 0.9994 - val_loss: 0.0136 - val_acc: 0.9964\n",
      "Epoch 150/200\n",
      "53/52 [==============================] - 89s 2s/step - loss: 0.0018 - acc: 0.9994 - val_loss: 1.5740e-04 - val_acc: 1.0000\n",
      "Epoch 151/200\n",
      "53/52 [==============================] - 87s 2s/step - loss: 0.0023 - acc: 0.9988 - val_loss: 2.2101e-04 - val_acc: 1.0000\n",
      "Epoch 152/200\n",
      "53/52 [==============================] - 89s 2s/step - loss: 0.0117 - acc: 0.9965 - val_loss: 0.0029 - val_acc: 0.9982\n",
      "Epoch 153/200\n",
      "53/52 [==============================] - 86s 2s/step - loss: 0.0120 - acc: 0.9971 - val_loss: 0.0137 - val_acc: 0.9982\n",
      "Epoch 154/200\n",
      "53/52 [==============================] - 84s 2s/step - loss: 0.0522 - acc: 0.9879 - val_loss: 0.0107 - val_acc: 0.9964\n",
      "Epoch 155/200\n",
      "53/52 [==============================] - 84s 2s/step - loss: 0.0070 - acc: 0.9982 - val_loss: 0.0010 - val_acc: 1.0000\n",
      "Epoch 156/200\n",
      "53/52 [==============================] - 85s 2s/step - loss: 0.0020 - acc: 0.9988 - val_loss: 0.0032 - val_acc: 0.9982\n",
      "Epoch 157/200\n",
      "53/52 [==============================] - 84s 2s/step - loss: 8.0831e-04 - acc: 1.0000 - val_loss: 0.0096 - val_acc: 0.9982\n",
      "Epoch 158/200\n",
      "53/52 [==============================] - 84s 2s/step - loss: 2.2330e-04 - acc: 1.0000 - val_loss: 1.2695e-04 - val_acc: 1.0000\n",
      "Epoch 159/200\n",
      "53/52 [==============================] - 87s 2s/step - loss: 0.0013 - acc: 0.9994 - val_loss: 0.0183 - val_acc: 0.9982\n",
      "Epoch 160/200\n",
      "53/52 [==============================] - 88s 2s/step - loss: 0.0070 - acc: 0.9988 - val_loss: 0.0013 - val_acc: 1.0000\n",
      "Epoch 161/200\n",
      "53/52 [==============================] - 89s 2s/step - loss: 0.0021 - acc: 0.9988 - val_loss: 0.0139 - val_acc: 0.9982\n",
      "Epoch 162/200\n",
      "53/52 [==============================] - 89s 2s/step - loss: 0.0017 - acc: 0.9994 - val_loss: 3.1533e-04 - val_acc: 1.0000\n",
      "Epoch 163/200\n",
      "53/52 [==============================] - 93s 2s/step - loss: 9.1343e-04 - acc: 1.0000 - val_loss: 8.1397e-04 - val_acc: 1.0000\n",
      "Epoch 164/200\n",
      "53/52 [==============================] - 87s 2s/step - loss: 0.0023 - acc: 0.9994 - val_loss: 4.9036e-04 - val_acc: 1.0000\n",
      "Epoch 165/200\n",
      "53/52 [==============================] - 88s 2s/step - loss: 0.0020 - acc: 0.9988 - val_loss: 0.0017 - val_acc: 1.0000\n",
      "Epoch 166/200\n",
      "53/52 [==============================] - 85s 2s/step - loss: 0.0024 - acc: 0.9982 - val_loss: 1.5852e-04 - val_acc: 1.0000\n",
      "Epoch 167/200\n",
      "53/52 [==============================] - 86s 2s/step - loss: 3.7404e-04 - acc: 1.0000 - val_loss: 0.0047 - val_acc: 0.9982\n",
      "Epoch 168/200\n",
      "53/52 [==============================] - 86s 2s/step - loss: 4.7873e-04 - acc: 1.0000 - val_loss: 0.0020 - val_acc: 0.9982\n",
      "Epoch 169/200\n",
      "53/52 [==============================] - 83s 2s/step - loss: 2.1326e-04 - acc: 1.0000 - val_loss: 8.9831e-04 - val_acc: 1.0000\n",
      "Epoch 170/200\n",
      "53/52 [==============================] - 89s 2s/step - loss: 1.2853e-04 - acc: 1.0000 - val_loss: 5.0488e-05 - val_acc: 1.0000\n",
      "Epoch 171/200\n",
      "53/52 [==============================] - 89s 2s/step - loss: 9.0221e-05 - acc: 1.0000 - val_loss: 0.0119 - val_acc: 0.9982\n",
      "Epoch 172/200\n",
      "53/52 [==============================] - 84s 2s/step - loss: 3.9221e-05 - acc: 1.0000 - val_loss: 2.5861e-05 - val_acc: 1.0000\n",
      "Epoch 173/200\n",
      "53/52 [==============================] - 84s 2s/step - loss: 6.8980e-04 - acc: 1.0000 - val_loss: 2.7865e-05 - val_acc: 1.0000\n",
      "Epoch 174/200\n",
      "53/52 [==============================] - 83s 2s/step - loss: 0.0028 - acc: 0.9994 - val_loss: 1.1344e-04 - val_acc: 1.0000\n",
      "Epoch 175/200\n",
      "53/52 [==============================] - 84s 2s/step - loss: 2.3161e-04 - acc: 1.0000 - val_loss: 1.5685e-04 - val_acc: 1.0000\n",
      "Epoch 176/200\n",
      "53/52 [==============================] - 85s 2s/step - loss: 0.0040 - acc: 0.9994 - val_loss: 5.2948e-04 - val_acc: 1.0000\n",
      "Epoch 177/200\n",
      "53/52 [==============================] - 82s 2s/step - loss: 6.6346e-04 - acc: 0.9994 - val_loss: 5.2614e-04 - val_acc: 1.0000\n",
      "Epoch 178/200\n",
      "53/52 [==============================] - 88s 2s/step - loss: 0.0034 - acc: 0.9988 - val_loss: 2.7354e-05 - val_acc: 1.0000\n",
      "Epoch 179/200\n",
      "53/52 [==============================] - 87s 2s/step - loss: 0.0063 - acc: 0.9976 - val_loss: 0.0030 - val_acc: 0.9982\n",
      "Epoch 180/200\n",
      "53/52 [==============================] - 86s 2s/step - loss: 0.0013 - acc: 0.9994 - val_loss: 0.0085 - val_acc: 0.9982\n",
      "Epoch 181/200\n",
      "53/52 [==============================] - 85s 2s/step - loss: 6.8722e-04 - acc: 1.0000 - val_loss: 0.0015 - val_acc: 0.9982\n",
      "Epoch 182/200\n",
      "53/52 [==============================] - 95s 2s/step - loss: 0.0030 - acc: 0.9988 - val_loss: 0.0129 - val_acc: 0.9964\n",
      "Epoch 183/200\n",
      "53/52 [==============================] - 94s 2s/step - loss: 0.0138 - acc: 0.9965 - val_loss: 0.0167 - val_acc: 0.9982\n",
      "Epoch 184/200\n"
     ]
    },
    {
     "name": "stdout",
     "output_type": "stream",
     "text": [
      "53/52 [==============================] - 83s 2s/step - loss: 0.0085 - acc: 0.9976 - val_loss: 4.4079e-04 - val_acc: 1.0000\n",
      "Epoch 185/200\n",
      "53/52 [==============================] - 85s 2s/step - loss: 0.0038 - acc: 0.9988 - val_loss: 0.0056 - val_acc: 0.9964\n",
      "Epoch 186/200\n",
      "53/52 [==============================] - 90s 2s/step - loss: 0.0075 - acc: 0.9976 - val_loss: 0.0173 - val_acc: 0.9982\n",
      "Epoch 187/200\n",
      "53/52 [==============================] - 88s 2s/step - loss: 0.0087 - acc: 0.9982 - val_loss: 3.7886e-04 - val_acc: 1.0000\n",
      "Epoch 188/200\n",
      "53/52 [==============================] - 86s 2s/step - loss: 0.0058 - acc: 0.9988 - val_loss: 0.0139 - val_acc: 0.9964\n",
      "Epoch 189/200\n",
      "53/52 [==============================] - 67s 1s/step - loss: 2.5671e-04 - acc: 1.0000 - val_loss: 3.9244e-04 - val_acc: 1.0000\n",
      "Epoch 190/200\n",
      "53/52 [==============================] - 68s 1s/step - loss: 2.7845e-04 - acc: 1.0000 - val_loss: 1.7408e-05 - val_acc: 1.0000\n",
      "Epoch 191/200\n",
      "53/52 [==============================] - 73s 1s/step - loss: 0.0016 - acc: 0.9994 - val_loss: 0.0038 - val_acc: 0.9982\n",
      "Epoch 192/200\n",
      "53/52 [==============================] - 88s 2s/step - loss: 0.0034 - acc: 0.9994 - val_loss: 6.5838e-04 - val_acc: 1.0000\n",
      "Epoch 193/200\n",
      "53/52 [==============================] - 88s 2s/step - loss: 0.0101 - acc: 0.9971 - val_loss: 0.0034 - val_acc: 0.9982\n",
      "Epoch 194/200\n",
      "53/52 [==============================] - 87s 2s/step - loss: 0.0026 - acc: 0.9994 - val_loss: 6.5310e-04 - val_acc: 1.0000\n",
      "Epoch 195/200\n",
      "53/52 [==============================] - 87s 2s/step - loss: 0.0166 - acc: 0.9941 - val_loss: 0.0151 - val_acc: 0.9964\n",
      "Epoch 196/200\n",
      "53/52 [==============================] - 89s 2s/step - loss: 0.0221 - acc: 0.9953 - val_loss: 0.0175 - val_acc: 0.9982\n",
      "Epoch 197/200\n",
      "53/52 [==============================] - 89s 2s/step - loss: 0.0036 - acc: 0.9988 - val_loss: 0.0042 - val_acc: 0.9982\n",
      "Epoch 198/200\n",
      "53/52 [==============================] - 89s 2s/step - loss: 0.0149 - acc: 0.9965 - val_loss: 0.0021 - val_acc: 0.9982\n",
      "Epoch 199/200\n",
      "53/52 [==============================] - 89s 2s/step - loss: 0.0088 - acc: 0.9982 - val_loss: 6.6041e-05 - val_acc: 1.0000\n",
      "Epoch 200/200\n",
      "53/52 [==============================] - 90s 2s/step - loss: 0.0057 - acc: 0.9988 - val_loss: 2.0638e-04 - val_acc: 1.0000\n"
     ]
    }
   ],
   "source": [
    "res = model.fit_generator(\n",
    "    datagen_train.flow(X_train, Y_train, batch_size=32),\n",
    "    steps_per_epoch=len(X_train) / 32,\n",
    "    validation_data=datagen_test.flow(X_test, Y_test, batch_size=32),\n",
    "    validation_steps = len(X_test) / 32,\n",
    "    epochs=200, \n",
    "    verbose=1)"
   ]
  },
  {
   "cell_type": "code",
   "execution_count": 70,
   "metadata": {},
   "outputs": [
    {
     "name": "stdout",
     "output_type": "stream",
     "text": [
      "Saved model to disk\n"
     ]
    }
   ],
   "source": [
    "model_json = model.to_json()\n",
    "with open(\"model.json\", \"w\") as json_file:\n",
    "    json_file.write(model_json)\n",
    "\n",
    "model.save_weights(\"model.h5\")\n",
    "print(\"Saved model to disk\")"
   ]
  },
  {
   "cell_type": "code",
   "execution_count": 21,
   "metadata": {
    "scrolled": false
   },
   "outputs": [],
   "source": [
    "df = pd.DataFrame(res.history)"
   ]
  },
  {
   "cell_type": "code",
   "execution_count": 22,
   "metadata": {
    "scrolled": false
   },
   "outputs": [
    {
     "data": {
      "image/png": "[encoded data removed]",
      "text/plain": [
       "<matplotlib.figure.Figure at 0x7faa9c445a58>"
      ]
     },
     "metadata": {},
     "output_type": "display_data"
    }
   ],
   "source": [
    "df[['acc', 'val_acc']].plot(figsize=(16, 8))\n",
    "plt.grid(True);"
   ]
  },
  {
   "cell_type": "code",
   "execution_count": 23,
   "metadata": {
    "scrolled": false
   },
   "outputs": [
    {
     "data": {
      "image/png": "[encoded data removed]",
      "text/plain": [
       "<matplotlib.figure.Figure at 0x7faaa01e7978>"
      ]
     },
     "metadata": {},
     "output_type": "display_data"
    }
   ],
   "source": [
    "df[['loss', 'val_loss']].plot(figsize=(16, 8))\n",
    "plt.grid(True);"
   ]
  },
  {
   "cell_type": "code",
   "execution_count": 49,
   "metadata": {
    "scrolled": true
   },
   "outputs": [
    {
     "data": {
      "application/vnd.jupyter.widget-view+json": {
       "model_id": "3507d20c1ae242c4a2b2e4db2ca34f3d",
       "version_major": 2,
       "version_minor": 0
      },
      "text/plain": [
       "A Jupyter Widget"
      ]
     },
     "metadata": {},
     "output_type": "display_data"
    },
    {
     "name": "stdout",
     "output_type": "stream",
     "text": [
      "\n",
      "\n",
      "Total number of img: 934\n",
      "Number of left hands: 450\n",
      "Number of right hands: 405\n"
     ]
    }
   ],
   "source": [
    "mod_img = []\n",
    "value = (15, 15)\n",
    "l = 0\n",
    "left = 0\n",
    "right = 0\n",
    "rand_img = np.random.randint(0, 30, (50, 50))\n",
    "for img in tqdm_notebook(test_data):\n",
    "    blur = cv2.GaussianBlur(img, value, 0)\n",
    "    _, thresh1 = cv2.threshold(blur, 127, 255,\n",
    "                               cv2.THRESH_BINARY_INV + cv2.THRESH_OTSU)\n",
    "    im2, contours, hierarchy = cv2.findContours(thresh1, \n",
    "                                                cv2.RETR_TREE,\n",
    "                                                cv2.CHAIN_APPROX_SIMPLE)\n",
    "    img_rect = img.copy()\n",
    "    for i in contours:\n",
    "        x, y, w, h = cv2.boundingRect(i)\n",
    "        if (x, y) == (0, 0) or not 30 < w < 50 or not 30 < h < 50:\n",
    "            continue\n",
    "        \n",
    "        x_plus = (50 - w) // 2\n",
    "        y_plus = (50 - h) // 2\n",
    "    \n",
    "        crop_img = np.copy(rand_img)\n",
    "        crop_img[y_plus:h+y_plus, x_plus:w+x_plus] = img[y:y+h, x:x+w]\n",
    "        pred = np.round(model.predict(crop_img.reshape(-1,50, 50,1)))\n",
    "        \n",
    "        if np.all(pred == np.array([[0., 1., 0.]])):\n",
    "            img_rect = cv2.rectangle(img_rect, (x,y), (x+w,y+h),255,1) \n",
    "            img_rect = cv2.putText(img_rect.copy(), \n",
    "                                        'left', \n",
    "                                        (x, y-1),\n",
    "                                        cv2.FONT_HERSHEY_SIMPLEX, 0.4,255)\n",
    "            left += 1\n",
    "        if np.all(pred == np.array([[0., 0., 1.]])):\n",
    "            img_rect = cv2.rectangle(img_rect, (x,y), (x+w,y+h),255,1)\n",
    "            img_rect = cv2.putText(img_rect.copy(), \n",
    "                                        'right', \n",
    "                                        (x,y-1),\n",
    "                                        cv2.FONT_HERSHEY_SIMPLEX, 0.4,255)\n",
    "            right += 1 \n",
    "                \n",
    "    \n",
    "    mod_img.append(img_rect)\n",
    "    l += 1\n",
    "print('\\nTotal number of img: {}'.format(l))\n",
    "print('Number of left hands: {}'.format(left))\n",
    "print('Number of right hands: {}'.format(right))"
   ]
  },
  {
   "cell_type": "code",
   "execution_count": 44,
   "metadata": {
    "collapsed": true
   },
   "outputs": [],
   "source": [
    "name_dir = 'updated_img'"
   ]
  },
  {
   "cell_type": "code",
   "execution_count": 51,
   "metadata": {
    "scrolled": true
   },
   "outputs": [],
   "source": [
    "os.mkdir(name_dir)"
   ]
  },
  {
   "cell_type": "code",
   "execution_count": 52,
   "metadata": {
    "scrolled": true
   },
   "outputs": [],
   "source": [
    "os.chdir(name_dir)"
   ]
  },
  {
   "cell_type": "code",
   "execution_count": 53,
   "metadata": {
    "scrolled": true
   },
   "outputs": [
    {
     "data": {
      "application/vnd.jupyter.widget-view+json": {
       "model_id": "3369f86f19c14329a14243771e81be69",
       "version_major": 2,
       "version_minor": 0
      },
      "text/plain": [
       "A Jupyter Widget"
      ]
     },
     "metadata": {},
     "output_type": "display_data"
    },
    {
     "name": "stdout",
     "output_type": "stream",
     "text": [
      "\n"
     ]
    }
   ],
   "source": [
    "for i in tqdm_notebook(range(len(mod_img))):\n",
    "    plt.imsave(str(i)+'.png', mod_img[i], cmap='gray')"
   ]
  },
  {
   "cell_type": "code",
   "execution_count": null,
   "metadata": {
    "collapsed": true
   },
   "outputs": [],
   "source": [
    "from keras.models import model_from_json\n",
    "json_file = open('model.json', 'r')\n",
    "loaded_model_json = json_file.read()\n",
    "json_file.close()\n",
    "model = model_from_json(loaded_model_json)\n",
    "# load weights into new model\n",
    "model.load_weights(\"model.h5\")"
   ]
  }
 ],
 "metadata": {
  "kernelspec": {
   "display_name": "Python 3",
   "language": "python",
   "name": "python3"
  },
  "language_info": {
   "codemirror_mode": {
    "name": "ipython",
    "version": 3
   },
   "file_extension": ".py",
   "mimetype": "text/x-python",
   "name": "python",
   "nbconvert_exporter": "python",
   "pygments_lexer": "ipython3",
   "version": "3.6.3"
  }
 },
 "nbformat": 4,
 "nbformat_minor": 2
}
