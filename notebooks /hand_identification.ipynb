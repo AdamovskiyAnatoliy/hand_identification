{
 "cells": [
  {
   "cell_type": "code",
   "execution_count": 1,
   "metadata": {
    "scrolled": false
   },
   "outputs": [
    {
     "name": "stderr",
     "output_type": "stream",
     "text": [
      "Using TensorFlow backend.\n"
     ]
    }
   ],
   "source": [
    "import numpy as np\n",
    "import matplotlib.pyplot as plt\n",
    "from scipy.misc import imread\n",
    "from sklearn.model_selection import train_test_split\n",
    "from keras.utils import np_utils\n",
    "from keras.models import Sequential\n",
    "from keras.layers import Dense, Dropout, Activation, Flatten\n",
    "from keras.layers import Convolution2D, MaxPooling2D\n",
    "from keras.layers.convolutional import Conv2D\n",
    "from keras.preprocessing.image import ImageDataGenerator\n",
    "from tqdm import tqdm_notebook\n",
    "from tqdm import tqdm\n",
    "import pandas as pd\n",
    "import os\n",
    "import cv2\n",
    "import sys\n",
    "import scipy\n",
    "\n",
    "\n",
    "\n",
    "%matplotlib inline"
   ]
  },
  {
   "cell_type": "code",
   "execution_count": 2,
   "metadata": {},
   "outputs": [],
   "source": [
    "bad_path = '../dataset/Bad50x50/27733/'\n",
    "left_path = '../dataset/LeftHand50x50/27731/'\n",
    "rigth_path = '../dataset/RightHand50x50/27730/'\n",
    "test_path = '../dataset/Test189x110/27734/'"
   ]
  },
  {
   "cell_type": "code",
   "execution_count": 3,
   "metadata": {},
   "outputs": [],
   "source": [
    "dir_path = [bad_path, left_path, rigth_path]"
   ]
  },
  {
   "cell_type": "code",
   "execution_count": 4,
   "metadata": {},
   "outputs": [],
   "source": [
    "\n",
    "train_img_path = []\n",
    "for i in dir_path :\n",
    "    image_in_dir = []\n",
    "    for j in os.listdir(i):\n",
    "        if j.split('.')[1] == 'jpg':\n",
    "            image_in_dir.append(i + j)\n",
    "    train_img_path.append(image_in_dir)"
   ]
  },
  {
   "cell_type": "code",
   "execution_count": 5,
   "metadata": {},
   "outputs": [],
   "source": [
    "target_list = [0, 1, 2]"
   ]
  },
  {
   "cell_type": "code",
   "execution_count": 6,
   "metadata": {},
   "outputs": [
    {
     "name": "stderr",
     "output_type": "stream",
     "text": [
      "/anaconda3/lib/python3.7/site-packages/ipykernel_launcher.py:5: DeprecationWarning: `imread` is deprecated!\n",
      "`imread` is deprecated in SciPy 1.0.0, and will be removed in 1.2.0.\n",
      "Use ``imageio.imread`` instead.\n",
      "  \"\"\"\n"
     ]
    }
   ],
   "source": [
    "train_data = []\n",
    "train_target = []\n",
    "for paths, target in zip(train_img_path, target_list):\n",
    "    for path in paths:\n",
    "        train_data.append(imread(path, mode='L'))\n",
    "        train_target.append(target)\n",
    "train_data = np.array(train_data)\n",
    "train_target = np.array(train_target)"
   ]
  },
  {
   "cell_type": "code",
   "execution_count": 7,
   "metadata": {},
   "outputs": [],
   "source": [
    "test_img_path = []\n",
    "for i in os.listdir(test_path):\n",
    "    if i.split('.')[1] == 'jpg':\n",
    "        test_img_path.append(test_path + i)"
   ]
  },
  {
   "cell_type": "code",
   "execution_count": 8,
   "metadata": {
    "scrolled": true
   },
   "outputs": [
    {
     "name": "stderr",
     "output_type": "stream",
     "text": [
      "/anaconda3/lib/python3.7/site-packages/ipykernel_launcher.py:3: DeprecationWarning: `imread` is deprecated!\n",
      "`imread` is deprecated in SciPy 1.0.0, and will be removed in 1.2.0.\n",
      "Use ``imageio.imread`` instead.\n",
      "  This is separate from the ipykernel package so we can avoid doing imports until\n"
     ]
    }
   ],
   "source": [
    "test_data = []\n",
    "for path in test_img_path:\n",
    "    test_data.append(imread(path, mode='L', ))\n",
    "test_data = np.array(test_data)"
   ]
  },
  {
   "cell_type": "code",
   "execution_count": 9,
   "metadata": {},
   "outputs": [],
   "source": [
    "batch_size, img_rows, img_cols = 64 , 50, 50"
   ]
  },
  {
   "cell_type": "code",
   "execution_count": 10,
   "metadata": {},
   "outputs": [],
   "source": [
    "input_shape = (img_rows, img_cols, 1)"
   ]
  },
  {
   "cell_type": "code",
   "execution_count": 11,
   "metadata": {},
   "outputs": [],
   "source": [
    "X_train, X_test, y_train, y_test = train_test_split(train_data, train_target)"
   ]
  },
  {
   "cell_type": "code",
   "execution_count": 12,
   "metadata": {
    "scrolled": true
   },
   "outputs": [],
   "source": [
    "X_train = X_train.reshape(X_train.shape[0], img_rows, img_cols, 1)\n",
    "X_test = X_test.reshape(X_test.shape[0], img_rows, img_cols, 1)"
   ]
  },
  {
   "cell_type": "code",
   "execution_count": 13,
   "metadata": {},
   "outputs": [],
   "source": [
    "X_train = X_train.astype('float32')\n",
    "X_test = X_test.astype('float32')\n",
    "X_train /= 255\n",
    "X_test /= 255"
   ]
  },
  {
   "cell_type": "code",
   "execution_count": 24,
   "metadata": {},
   "outputs": [],
   "source": [
    "datagen_train = ImageDataGenerator(rotation_range=180, zoom_range=0.1)\n",
    "datagen_train.fit(X_train.reshape(-1, 50, 50, 1))\n",
    "datagen_test = ImageDataGenerator(rotation_range=180, zoom_range=0.1)\n",
    "datagen_test.fit(X_test.reshape(-1, 50, 50, 1))"
   ]
  },
  {
   "cell_type": "code",
   "execution_count": 25,
   "metadata": {
    "scrolled": false
   },
   "outputs": [],
   "source": [
    "Y_train = np_utils.to_categorical(y_train, 3)\n",
    "Y_test = np_utils.to_categorical(y_test, 3)"
   ]
  },
  {
   "cell_type": "code",
   "execution_count": 43,
   "metadata": {},
   "outputs": [],
   "source": [
    "model = Sequential([\n",
    "    Conv2D(32, (5, 5), input_shape=input_shape, padding='same'),\n",
    "    Activation('relu'),\n",
    "    MaxPooling2D(pool_size=(2,2), strides=(2, 2), padding ='same'),\n",
    "    Conv2D(64, (5, 5), input_shape=input_shape, padding='same'),\n",
    "    Activation('relu'),\n",
    "    MaxPooling2D(pool_size=(2,2), strides=(2, 2), padding = 'same'),\n",
    "    Flatten(),\n",
    "    Dense(1024),\n",
    "    Activation('relu'),\n",
    "    Dropout(0.5),\n",
    "    Dense(3),\n",
    "    Activation('softmax')\n",
    "])"
   ]
  },
  {
   "cell_type": "code",
   "execution_count": 44,
   "metadata": {},
   "outputs": [],
   "source": [
    "model.compile(loss='categorical_crossentropy', optimizer='adam', metrics=['accuracy'])"
   ]
  },
  {
   "cell_type": "code",
   "execution_count": 45,
   "metadata": {
    "scrolled": false
   },
   "outputs": [
    {
     "name": "stdout",
     "output_type": "stream",
     "text": [
      "Epoch 1/10\n",
      "53/52 [==============================] - 23s 433ms/step - loss: 0.7912 - acc: 0.5750 - val_loss: 0.5716 - val_acc: 0.6470\n",
      "Epoch 2/10\n",
      "53/52 [==============================] - 19s 352ms/step - loss: 0.5577 - acc: 0.6794 - val_loss: 0.4503 - val_acc: 0.8244\n",
      "Epoch 3/10\n",
      "53/52 [==============================] - 18s 340ms/step - loss: 0.4145 - acc: 0.8133 - val_loss: 0.3050 - val_acc: 0.8835\n",
      "Epoch 4/10\n",
      "53/52 [==============================] - 18s 339ms/step - loss: 0.2779 - acc: 0.8773 - val_loss: 0.1851 - val_acc: 0.9391\n",
      "Epoch 5/10\n",
      "53/52 [==============================] - 19s 352ms/step - loss: 0.1978 - acc: 0.9248 - val_loss: 0.1416 - val_acc: 0.9498\n",
      "Epoch 6/10\n",
      "53/52 [==============================] - 18s 345ms/step - loss: 0.1484 - acc: 0.9493 - val_loss: 0.0874 - val_acc: 0.9749\n",
      "Epoch 7/10\n",
      "53/52 [==============================] - 18s 346ms/step - loss: 0.1309 - acc: 0.9522 - val_loss: 0.1105 - val_acc: 0.9552\n",
      "Epoch 8/10\n",
      "53/52 [==============================] - 18s 348ms/step - loss: 0.0915 - acc: 0.9649 - val_loss: 0.0828 - val_acc: 0.9695\n",
      "Epoch 9/10\n",
      "53/52 [==============================] - 18s 345ms/step - loss: 0.1123 - acc: 0.9599 - val_loss: 0.0814 - val_acc: 0.9731\n",
      "Epoch 10/10\n",
      "53/52 [==============================] - 18s 349ms/step - loss: 0.0698 - acc: 0.9752 - val_loss: 0.0643 - val_acc: 0.9749\n"
     ]
    }
   ],
   "source": [
    "res = model.fit_generator(\n",
    "    datagen_train.flow(X_train, Y_train, batch_size=32),\n",
    "    steps_per_epoch=len(X_train) / 32,\n",
    "    validation_data=datagen_test.flow(X_test, Y_test, batch_size=32),\n",
    "    validation_steps = len(X_test) / 32,\n",
    "    epochs=10, \n",
    "    verbose=1)"
   ]
  },
  {
   "cell_type": "code",
   "execution_count": null,
   "metadata": {},
   "outputs": [],
   "source": [
    "model_json = model.to_json()\n",
    "with open(\"model.json\", \"w\") as json_file:\n",
    "    json_file.write(model_json)\n",
    "\n",
    "model.save_weights(\"model.h5\")\n",
    "print(\"Saved model to disk\")"
   ]
  },
  {
   "cell_type": "code",
   "execution_count": 34,
   "metadata": {},
   "outputs": [
    {
     "data": {
      "text/plain": [
       "{'val_loss': [0.5114211002131089,\n",
       "  0.4867220058449708,\n",
       "  0.3403379436462156,\n",
       "  0.19079013713585433,\n",
       "  0.16779266420658345,\n",
       "  0.14228154766944148,\n",
       "  0.11434556453031451,\n",
       "  0.07300016548364394,\n",
       "  0.058534814919408505,\n",
       "  0.05807809141134062,\n",
       "  0.047557256127771085,\n",
       "  0.08153331926005715,\n",
       "  0.06435617593561022,\n",
       "  0.04122232868900275,\n",
       "  0.04692538380522721,\n",
       "  0.05366812408050542,\n",
       "  0.033603871059286874,\n",
       "  0.016930167498167163,\n",
       "  0.02301511490437132,\n",
       "  0.03261284998828365,\n",
       "  0.024011112088637966,\n",
       "  0.02569052480882214,\n",
       "  0.04805390347850152,\n",
       "  0.015866096528734358,\n",
       "  0.016323704319241655,\n",
       "  0.00974628445442005,\n",
       "  0.007959235421491212,\n",
       "  0.013642749881290907,\n",
       "  0.009620198831012252,\n",
       "  0.013331649828314996,\n",
       "  0.011164441920055817,\n",
       "  0.008802309922713747],\n",
       " 'val_acc': [0.7401433685347171,\n",
       "  0.7939068102494791,\n",
       "  0.8727598559899142,\n",
       "  0.9265232977046761,\n",
       "  0.9301075270953572,\n",
       "  0.9534050172802367,\n",
       "  0.9587813620071685,\n",
       "  0.974910394265233,\n",
       "  0.9784946230150038,\n",
       "  0.978494623655914,\n",
       "  0.978494623655914,\n",
       "  0.9767025083196633,\n",
       "  0.9784946230150038,\n",
       "  0.9874551971326165,\n",
       "  0.989247311827957,\n",
       "  0.978494623655914,\n",
       "  0.985663082437276,\n",
       "  0.996415770609319,\n",
       "  0.9910394265232975,\n",
       "  0.9874551964917063,\n",
       "  0.9946236559139785,\n",
       "  0.9910394265232975,\n",
       "  0.9838709677419355,\n",
       "  0.996415770609319,\n",
       "  0.9946236552730683,\n",
       "  0.9982078853046595,\n",
       "  1.0,\n",
       "  0.996415770609319,\n",
       "  0.996415770609319,\n",
       "  0.9946236552730683,\n",
       "  0.9946236559139785,\n",
       "  0.9982078853046595],\n",
       " 'loss': [0.8028531328191033,\n",
       "  0.5419262305783855,\n",
       "  0.44098254605833814,\n",
       "  0.2929965447894984,\n",
       "  0.19128688987293288,\n",
       "  0.16232966758573547,\n",
       "  0.1306566948742476,\n",
       "  0.11384408501490674,\n",
       "  0.11182005299968913,\n",
       "  0.08063591520585346,\n",
       "  0.07791202380202233,\n",
       "  0.06853193131504269,\n",
       "  0.07744663202432604,\n",
       "  0.058707088289934935,\n",
       "  0.059889621134790065,\n",
       "  0.03265466617817784,\n",
       "  0.06684788503643466,\n",
       "  0.043348475611833796,\n",
       "  0.030185921895899463,\n",
       "  0.0370108202674292,\n",
       "  0.04505864131818353,\n",
       "  0.021924140691176586,\n",
       "  0.03590089090483556,\n",
       "  0.03019345760260844,\n",
       "  0.019640832999136656,\n",
       "  0.03267063510988867,\n",
       "  0.03326442503680414,\n",
       "  0.017179364807796884,\n",
       "  0.019967924096374965,\n",
       "  0.021054798233165816,\n",
       "  0.019693450333826266,\n",
       "  0.012575912684006244],\n",
       " 'acc': [0.5983263598504497,\n",
       "  0.6999402271368799,\n",
       "  0.799163179916318,\n",
       "  0.8810520024265419,\n",
       "  0.9205020920502092,\n",
       "  0.9384339510218797,\n",
       "  0.9521817095395126,\n",
       "  0.958756724447101,\n",
       "  0.9605499103407054,\n",
       "  0.9742976688939657,\n",
       "  0.9760908547519426,\n",
       "  0.9760908547519426,\n",
       "  0.9742976688583384,\n",
       "  0.9808726838015541,\n",
       "  0.9808726838015541,\n",
       "  0.9898386132695756,\n",
       "  0.9748953974895398,\n",
       "  0.9868499701135685,\n",
       "  0.9898386132695756,\n",
       "  0.9850567842555915,\n",
       "  0.9856545128511656,\n",
       "  0.9934249850567842,\n",
       "  0.9868499701135685,\n",
       "  0.9904363419364044,\n",
       "  0.9934249850567842,\n",
       "  0.9886431560071728,\n",
       "  0.9880454273759713,\n",
       "  0.9934249850567842,\n",
       "  0.9934249850567842,\n",
       "  0.9922295277943813,\n",
       "  0.9946204423191871,\n",
       "  0.9964136282127914]}"
      ]
     },
     "execution_count": 34,
     "metadata": {},
     "output_type": "execute_result"
    }
   ],
   "source": [
    "model.history.history"
   ]
  },
  {
   "cell_type": "code",
   "execution_count": 35,
   "metadata": {
    "scrolled": true
   },
   "outputs": [],
   "source": [
    "df = pd.DataFrame(model.history.history)"
   ]
  },
  {
   "cell_type": "code",
   "execution_count": 36,
   "metadata": {
    "scrolled": false
   },
   "outputs": [
    {
     "data": {
      "image/png": "[encoded data removed]",
      "text/plain": [
       "<Figure size 1152x576 with 1 Axes>"
      ]
     },
     "metadata": {
      "needs_background": "light"
     },
     "output_type": "display_data"
    }
   ],
   "source": [
    "df[['acc', 'val_acc']].plot(figsize=(16, 8))\n",
    "plt.grid(True);"
   ]
  },
  {
   "cell_type": "code",
   "execution_count": 37,
   "metadata": {
    "scrolled": false
   },
   "outputs": [
    {
     "data": {
      "image/png": "[encoded data removed]",
      "text/plain": [
       "<Figure size 1152x576 with 1 Axes>"
      ]
     },
     "metadata": {
      "needs_background": "light"
     },
     "output_type": "display_data"
    }
   ],
   "source": [
    "df[['loss', 'val_loss']].plot(figsize=(16, 8))\n",
    "plt.grid(True);"
   ]
  },
  {
   "cell_type": "code",
   "execution_count": 38,
   "metadata": {
    "scrolled": true
   },
   "outputs": [
    {
     "data": {
      "application/vnd.jupyter.widget-view+json": {
       "model_id": "5a913569de3b4c26a1b84c1d61f4a7ef",
       "version_major": 2,
       "version_minor": 0
      },
      "text/plain": [
       "HBox(children=(IntProgress(value=0, max=934), HTML(value='')))"
      ]
     },
     "metadata": {},
     "output_type": "display_data"
    },
    {
     "name": "stdout",
     "output_type": "stream",
     "text": [
      "\n",
      "\n",
      "Total number of img: 934\n",
      "Number of left hands: 441\n",
      "Number of right hands: 631\n"
     ]
    }
   ],
   "source": [
    "mod_img = []\n",
    "value = (15, 15)\n",
    "l = 0\n",
    "left = 0\n",
    "right = 0\n",
    "rand_img = np.random.randint(0, 30, (50, 50))\n",
    "for img in tqdm_notebook(test_data):\n",
    "    blur = cv2.GaussianBlur(img, value, 0)\n",
    "    _, thresh1 = cv2.threshold(blur, 127, 255, cv2.THRESH_BINARY_INV + cv2.THRESH_OTSU)\n",
    "    contours, hierarchy = cv2.findContours(thresh1, \n",
    "                                                cv2.RETR_TREE,\n",
    "                                                cv2.CHAIN_APPROX_SIMPLE)\n",
    "    img_rect = img.copy()\n",
    "    for i in contours:\n",
    "        x, y, w, h = cv2.boundingRect(i)\n",
    "        if (x, y) == (0, 0) or not 30 < w < 50 or not 30 < h < 50:\n",
    "            continue\n",
    "        \n",
    "        x_plus = (50 - w) // 2\n",
    "        y_plus = (50 - h) // 2\n",
    "    \n",
    "        crop_img = np.copy(rand_img)\n",
    "        crop_img[y_plus:h+y_plus, x_plus:w+x_plus] = img[y:y+h, x:x+w]\n",
    "        pred = np.round(model.predict(crop_img.reshape(-1,50, 50,1)))\n",
    "        \n",
    "        if np.all(pred == np.array([[0., 1., 0.]])):\n",
    "            img_rect = cv2.rectangle(img_rect, (x,y), (x+w,y+h),255,1) \n",
    "            img_rect = cv2.putText(img_rect.copy(), \n",
    "                                        'left', \n",
    "                                        (x, y-1),\n",
    "                                        cv2.FONT_HERSHEY_SIMPLEX, 0.4,255)\n",
    "            left += 1\n",
    "        if np.all(pred == np.array([[0., 0., 1.]])):\n",
    "            img_rect = cv2.rectangle(img_rect, (x,y), (x+w,y+h),255,1)\n",
    "            img_rect = cv2.putText(img_rect.copy(), \n",
    "                                        'right', \n",
    "                                        (x,y-1),\n",
    "                                        cv2.FONT_HERSHEY_SIMPLEX, 0.4,255)\n",
    "            right += 1 \n",
    "                \n",
    "    \n",
    "    mod_img.append(img_rect)\n",
    "    l += 1\n",
    "print('\\nTotal number of img: {}'.format(l))\n",
    "print('Number of left hands: {}'.format(left))\n",
    "print('Number of right hands: {}'.format(right))"
   ]
  },
  {
   "cell_type": "code",
   "execution_count": 39,
   "metadata": {},
   "outputs": [],
   "source": [
    "name_dir = 'updated_img'"
   ]
  },
  {
   "cell_type": "code",
   "execution_count": 40,
   "metadata": {
    "scrolled": true
   },
   "outputs": [],
   "source": [
    "os.mkdir(name_dir)"
   ]
  },
  {
   "cell_type": "code",
   "execution_count": 41,
   "metadata": {
    "scrolled": true
   },
   "outputs": [],
   "source": [
    "os.chdir(name_dir)"
   ]
  },
  {
   "cell_type": "code",
   "execution_count": 42,
   "metadata": {
    "scrolled": true
   },
   "outputs": [
    {
     "data": {
      "application/vnd.jupyter.widget-view+json": {
       "model_id": "6af280b0a2064868bb21e82327e4dbd1",
       "version_major": 2,
       "version_minor": 0
      },
      "text/plain": [
       "HBox(children=(IntProgress(value=0, max=934), HTML(value='')))"
      ]
     },
     "metadata": {},
     "output_type": "display_data"
    },
    {
     "name": "stdout",
     "output_type": "stream",
     "text": [
      "\n"
     ]
    }
   ],
   "source": [
    "for i in tqdm_notebook(range(len(mod_img))):\n",
    "    plt.imsave(str(i)+'.png', mod_img[i], cmap='gray')"
   ]
  },
  {
   "cell_type": "code",
   "execution_count": 17,
   "metadata": {},
   "outputs": [],
   "source": [
    "from keras.models import model_from_json\n",
    "json_file = open('model.json', 'r')\n",
    "loaded_model_json = json_file.read()\n",
    "json_file.close()\n",
    "model = model_from_json(loaded_model_json)\n",
    "# load weights into new model\n",
    "model.load_weights(\"model.h5\")"
   ]
  },
  {
   "cell_type": "code",
   "execution_count": null,
   "metadata": {},
   "outputs": [],
   "source": []
  }
 ],
 "metadata": {
  "kernelspec": {
   "display_name": "Python 3",
   "language": "python",
   "name": "python3"
  },
  "language_info": {
   "codemirror_mode": {
    "name": "ipython",
    "version": 3
   },
   "file_extension": ".py",
   "mimetype": "text/x-python",
   "name": "python",
   "nbconvert_exporter": "python",
   "pygments_lexer": "ipython3",
   "version": "3.7.3"
  }
 },
 "nbformat": 4,
 "nbformat_minor": 2
}
