{
 "cells": [
  {
   "cell_type": "code",
   "execution_count": 496,
   "metadata": {},
   "outputs": [],
   "source": [
    "import os\n",
    "import torch\n",
    "import torch.nn as nn\n",
    "import torch.optim as optim\n",
    "import torch.nn.functional as F\n",
    "import matplotlib.pyplot as plt \n",
    "import numpy as np\n",
    "import pandas as pd\n",
    "from imageio import imread\n",
    "from sklearn.model_selection import train_test_split\n",
    "from sklearn.metrics import accuracy_score\n",
    "from tqdm import tqdm_notebook"
   ]
  },
  {
   "cell_type": "code",
   "execution_count": 44,
   "metadata": {},
   "outputs": [],
   "source": [
    "bad_path = '../dataset/Bad50x50/27733/'\n",
    "left_path = '../dataset/LeftHand50x50/27731/'\n",
    "rigth_path = '../dataset/RightHand50x50/27730/'\n",
    "test_path = '../dataset/Test189x110/27734/'"
   ]
  },
  {
   "cell_type": "code",
   "execution_count": 45,
   "metadata": {},
   "outputs": [],
   "source": [
    "dir_path = [bad_path, left_path, rigth_path]"
   ]
  },
  {
   "cell_type": "code",
   "execution_count": 46,
   "metadata": {},
   "outputs": [],
   "source": [
    "for path in dir_path:\n",
    "    assert os.path.isdir(path)"
   ]
  },
  {
   "cell_type": "code",
   "execution_count": 462,
   "metadata": {},
   "outputs": [],
   "source": [
    "X = []\n",
    "y = []\n",
    "for img_path in dir_path:\n",
    "    for img_name in filter(lambda x: x.endswith('jpg'), os.listdir(img_path)):\n",
    "        X.append(np.array(imread(os.path.join(img_path, img_name))[...,0]))\n",
    "        y.append(img_path)\n",
    "X = np.array(X)\n",
    "y = np.array(y)"
   ]
  },
  {
   "cell_type": "code",
   "execution_count": 463,
   "metadata": {},
   "outputs": [],
   "source": [
    "y = pd.get_dummies(y).values.argmax(axis=1)"
   ]
  },
  {
   "cell_type": "code",
   "execution_count": 464,
   "metadata": {},
   "outputs": [],
   "source": [
    "X_train, X_test, y_train, y_test = train_test_split(X, y, stratify=y, test_size=0.25, random_state=42)"
   ]
  },
  {
   "cell_type": "code",
   "execution_count": 465,
   "metadata": {},
   "outputs": [],
   "source": [
    "X_train = torch.from_numpy(X_train/255)\n",
    "X_test = torch.from_numpy(X_test/255)"
   ]
  },
  {
   "cell_type": "code",
   "execution_count": 466,
   "metadata": {},
   "outputs": [],
   "source": [
    "y_train = torch.from_numpy(y_train)\n",
    "y_test = torch.from_numpy(y_test)"
   ]
  },
  {
   "cell_type": "code",
   "execution_count": 467,
   "metadata": {},
   "outputs": [],
   "source": [
    "X_train = X_train.view(-1, 1, 1, 50, 50)\n",
    "X_test = X_test.view(-1, 1, 1, 50, 50)"
   ]
  },
  {
   "cell_type": "code",
   "execution_count": 470,
   "metadata": {},
   "outputs": [],
   "source": [
    "y_train = y_train.view(-1, 1).long()\n",
    "y_test = y_test.view(-1, 1).long()"
   ]
  },
  {
   "cell_type": "code",
   "execution_count": 526,
   "metadata": {
    "scrolled": true
   },
   "outputs": [],
   "source": [
    "class Net(nn.Module):\n",
    "    def __init__(self):\n",
    "        super(Net, self).__init__()\n",
    "        self.conv1 = nn.Conv2d(1, 6, 5)\n",
    "        self.pool = nn.MaxPool2d(2, 2)\n",
    "        self.conv2 = nn.Conv2d(6, 16, 5)\n",
    "        self.fc1 = nn.Linear(16 * 9 * 9, 120)\n",
    "        self.fc2 = nn.Linear(120, 84)\n",
    "        self.fc3 = nn.Linear(84, 3)\n",
    "\n",
    "    def forward(self, x):\n",
    "        x = self.pool(F.relu(self.conv1(x)))\n",
    "        x = self.pool(F.relu(self.conv2(x)))\n",
    "        x = x.view(-1, 16 * 9 * 9)\n",
    "        x = F.relu(self.fc1(x))\n",
    "        x = F.relu(self.fc2(x))\n",
    "        x = self.fc3(x)\n",
    "        return x\n",
    "\n"
   ]
  },
  {
   "cell_type": "code",
   "execution_count": 544,
   "metadata": {},
   "outputs": [
    {
     "data": {
      "application/vnd.jupyter.widget-view+json": {
       "model_id": "2fee1d9f26644072a0523f65f4c75b69",
       "version_major": 2,
       "version_minor": 0
      },
      "text/plain": [
       "HBox(children=(IntProgress(value=1, bar_style='info', max=1), HTML(value='')))"
      ]
     },
     "metadata": {},
     "output_type": "display_data"
    },
    {
     "name": "stdout",
     "output_type": "stream",
     "text": [
      "[1,     1] loss: 0.000613\n",
      "[1,   301] loss: 0.163890\n",
      "[1,   601] loss: 0.162136\n",
      "[1,   901] loss: 0.117527\n",
      "[1,  1201] loss: 0.085416\n",
      "[1,  1501] loss: 0.062879\n",
      "\n",
      "Accuracy of the network : 85.842\n"
     ]
    },
    {
     "data": {
      "application/vnd.jupyter.widget-view+json": {
       "model_id": "fe4e3ab7381b457e8b74e9fa34a51a58",
       "version_major": 2,
       "version_minor": 0
      },
      "text/plain": [
       "HBox(children=(IntProgress(value=1, bar_style='info', max=1), HTML(value='')))"
      ]
     },
     "metadata": {},
     "output_type": "display_data"
    },
    {
     "name": "stdout",
     "output_type": "stream",
     "text": [
      "[2,     1] loss: 0.000001\n",
      "[2,   301] loss: 0.041245\n",
      "[2,   601] loss: 0.036596\n",
      "[2,   901] loss: 0.032533\n",
      "[2,  1201] loss: 0.023478\n",
      "[2,  1501] loss: 0.016045\n",
      "\n",
      "Accuracy of the network : 96.416\n"
     ]
    },
    {
     "data": {
      "application/vnd.jupyter.widget-view+json": {
       "model_id": "7098c1af8c27421e9988784e88019016",
       "version_major": 2,
       "version_minor": 0
      },
      "text/plain": [
       "HBox(children=(IntProgress(value=1, bar_style='info', max=1), HTML(value='')))"
      ]
     },
     "metadata": {},
     "output_type": "display_data"
    },
    {
     "name": "stdout",
     "output_type": "stream",
     "text": [
      "[3,     1] loss: 0.000000\n",
      "[3,   301] loss: 0.015476\n",
      "[3,   601] loss: 0.011888\n",
      "[3,   901] loss: 0.006257\n",
      "[3,  1201] loss: 0.004700\n",
      "[3,  1501] loss: 0.007364\n",
      "\n",
      "Accuracy of the network : 99.642\n"
     ]
    },
    {
     "data": {
      "application/vnd.jupyter.widget-view+json": {
       "model_id": "cbf44a4c457043e59e79ef29bb7c012e",
       "version_major": 2,
       "version_minor": 0
      },
      "text/plain": [
       "HBox(children=(IntProgress(value=1, bar_style='info', max=1), HTML(value='')))"
      ]
     },
     "metadata": {},
     "output_type": "display_data"
    },
    {
     "name": "stdout",
     "output_type": "stream",
     "text": [
      "[4,     1] loss: 0.000000\n",
      "[4,   301] loss: 0.001829\n",
      "[4,   601] loss: 0.001792\n",
      "[4,   901] loss: 0.004252\n",
      "[4,  1201] loss: 0.001811\n",
      "[4,  1501] loss: 0.001748\n",
      "\n",
      "Accuracy of the network : 99.821\n"
     ]
    },
    {
     "data": {
      "application/vnd.jupyter.widget-view+json": {
       "model_id": "36f67bf4643c44fa98b89981e5e15d3a",
       "version_major": 2,
       "version_minor": 0
      },
      "text/plain": [
       "HBox(children=(IntProgress(value=1, bar_style='info', max=1), HTML(value='')))"
      ]
     },
     "metadata": {},
     "output_type": "display_data"
    },
    {
     "name": "stdout",
     "output_type": "stream",
     "text": [
      "[5,     1] loss: 0.000000\n",
      "[5,   301] loss: 0.007470\n",
      "[5,   601] loss: 0.000789\n",
      "[5,   901] loss: 0.000327\n",
      "[5,  1201] loss: 0.003571\n",
      "[5,  1501] loss: 0.000215\n",
      "\n",
      "Accuracy of the network : 99.642\n"
     ]
    },
    {
     "data": {
      "application/vnd.jupyter.widget-view+json": {
       "model_id": "8e9a5210a3bd4fb581b58164f40ce4ca",
       "version_major": 2,
       "version_minor": 0
      },
      "text/plain": [
       "HBox(children=(IntProgress(value=1, bar_style='info', max=1), HTML(value='')))"
      ]
     },
     "metadata": {},
     "output_type": "display_data"
    },
    {
     "name": "stdout",
     "output_type": "stream",
     "text": [
      "[6,     1] loss: 0.000000\n",
      "[6,   301] loss: 0.000173\n",
      "[6,   601] loss: 0.000120\n",
      "[6,   901] loss: 0.000113\n",
      "[6,  1201] loss: 0.000065\n",
      "[6,  1501] loss: 0.000057\n",
      "\n",
      "Accuracy of the network : 99.821\n"
     ]
    },
    {
     "data": {
      "application/vnd.jupyter.widget-view+json": {
       "model_id": "19b58615281a434fa15f7c85d24399df",
       "version_major": 2,
       "version_minor": 0
      },
      "text/plain": [
       "HBox(children=(IntProgress(value=1, bar_style='info', max=1), HTML(value='')))"
      ]
     },
     "metadata": {},
     "output_type": "display_data"
    },
    {
     "name": "stdout",
     "output_type": "stream",
     "text": [
      "[7,     1] loss: 0.000000\n",
      "[7,   301] loss: 0.000054\n",
      "[7,   601] loss: 0.000037\n",
      "[7,   901] loss: 0.000022\n",
      "[7,  1201] loss: 0.000041\n",
      "[7,  1501] loss: 0.000036\n",
      "\n",
      "Accuracy of the network : 99.821\n"
     ]
    },
    {
     "data": {
      "application/vnd.jupyter.widget-view+json": {
       "model_id": "c1b0939e308b4cf8bfb49e5dd9e88ffe",
       "version_major": 2,
       "version_minor": 0
      },
      "text/plain": [
       "HBox(children=(IntProgress(value=1, bar_style='info', max=1), HTML(value='')))"
      ]
     },
     "metadata": {},
     "output_type": "display_data"
    },
    {
     "name": "stdout",
     "output_type": "stream",
     "text": [
      "[8,     1] loss: 0.000000\n",
      "[8,   301] loss: 0.000024\n",
      "[8,   601] loss: 0.000025\n",
      "[8,   901] loss: 0.000018\n",
      "[8,  1201] loss: 0.000027\n",
      "[8,  1501] loss: 0.000026\n",
      "\n",
      "Accuracy of the network : 99.821\n"
     ]
    },
    {
     "data": {
      "application/vnd.jupyter.widget-view+json": {
       "model_id": "11d9f8292ce4499ead7d944e3c061a46",
       "version_major": 2,
       "version_minor": 0
      },
      "text/plain": [
       "HBox(children=(IntProgress(value=1, bar_style='info', max=1), HTML(value='')))"
      ]
     },
     "metadata": {},
     "output_type": "display_data"
    },
    {
     "name": "stdout",
     "output_type": "stream",
     "text": [
      "[9,     1] loss: 0.000000\n",
      "[9,   301] loss: 0.000019\n",
      "[9,   601] loss: 0.000018\n",
      "[9,   901] loss: 0.000014\n",
      "[9,  1201] loss: 0.000020\n",
      "[9,  1501] loss: 0.000020\n",
      "\n",
      "Accuracy of the network : 99.821\n"
     ]
    },
    {
     "data": {
      "application/vnd.jupyter.widget-view+json": {
       "model_id": "83a00260b42e46b1a3b48dcb9c85255e",
       "version_major": 2,
       "version_minor": 0
      },
      "text/plain": [
       "HBox(children=(IntProgress(value=1, bar_style='info', max=1), HTML(value='')))"
      ]
     },
     "metadata": {},
     "output_type": "display_data"
    },
    {
     "name": "stdout",
     "output_type": "stream",
     "text": [
      "[10,     1] loss: 0.000000\n",
      "[10,   301] loss: 0.000015\n",
      "[10,   601] loss: 0.000014\n",
      "[10,   901] loss: 0.000011\n",
      "[10,  1201] loss: 0.000016\n",
      "[10,  1501] loss: 0.000016\n",
      "\n",
      "Accuracy of the network : 99.821\n",
      "Finished Training\n"
     ]
    }
   ],
   "source": [
    "net = Net()\n",
    "net = net.float()\n",
    "criterion = nn.CrossEntropyLoss()\n",
    "optimizer = optim.SGD(net.parameters(), lr=0.001, momentum=0.9)\n",
    "for epoch in range(10):  # loop over the dataset multiple times\n",
    "    running_loss = 0.0\n",
    "    for i, (a, b) in  tqdm_notebook(enumerate(zip(X_train, y_train))):\n",
    "        # get the inputs; data is a list of [inputs, labels]\n",
    "        inputs, labels = a, b\n",
    "\n",
    "        # zero the parameter gradients\n",
    "        optimizer.zero_grad()\n",
    "\n",
    "        # forward + backward + optimize\n",
    "        outputs = net(inputs.float())\n",
    "        \n",
    "        loss = criterion(outputs, labels)\n",
    "        loss.backward()\n",
    "        optimizer.step()\n",
    "\n",
    "        # print statistics\n",
    "        running_loss += loss.item()\n",
    "        if not i % 300 :    # print every 2000 mini-batches\n",
    "            print('[%d, %5d] loss: %.6f' %\n",
    "                  (epoch + 1, i + 1, running_loss / 2000))\n",
    "            running_loss = 0.0\n",
    "        correct = 0\n",
    "        total = 0\n",
    "    with torch.no_grad():\n",
    "        for a, b in zip(X_test, y_test):\n",
    "            images, labels = a, b\n",
    "            outputs = net(images.float())\n",
    "            _, predicted = torch.max(outputs.data, 1)\n",
    "            total += 1\n",
    "            correct += predicted.item() == labels.item()\n",
    "\n",
    "    print(f'Accuracy of the network : {np.round(100 * correct / total, 3)}')\n",
    "print('Finished Training')"
   ]
  },
  {
   "cell_type": "code",
   "execution_count": null,
   "metadata": {},
   "outputs": [],
   "source": []
  }
 ],
 "metadata": {
  "kernelspec": {
   "display_name": "Python 3",
   "language": "python",
   "name": "python3"
  },
  "language_info": {
   "codemirror_mode": {
    "name": "ipython",
    "version": 3
   },
   "file_extension": ".py",
   "mimetype": "text/x-python",
   "name": "python",
   "nbconvert_exporter": "python",
   "pygments_lexer": "ipython3",
   "version": "3.7.3"
  }
 },
 "nbformat": 4,
 "nbformat_minor": 2
}
